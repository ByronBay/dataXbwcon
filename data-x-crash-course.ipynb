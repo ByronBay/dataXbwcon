{
 "cells": [
  {
   "cell_type": "markdown",
   "metadata": {},
   "source": [
    "![data-x](http://oi64.tinypic.com/o858n4.jpg)\n",
    "\n",
    "---\n",
    "# Data-X Crash Course\n",
    "\n",
    "\n",
    "**Author:** Alexander Fred-Ojala\n",
    "\n",
    "\n",
    "**License Agreement:** Feel free to do whatever you want with this code\n",
    "\n",
    "___"
   ]
  },
  {
   "cell_type": "markdown",
   "metadata": {},
   "source": [
    "# Outline\n",
    "\n",
    "> ### 0. Note on tools\n",
    "> ### 1. Intro to Jupyter Notebooks\n",
    "> ### 2. Numpy, pandas and matplotlib\n",
    "> ### 3. Scikit-learn and Machine Learning\n",
    "> ### 4. Tensorflow / Keras for Deep Learning\n",
    "\n",
    "-----"
   ]
  },
  {
   "cell_type": "markdown",
   "metadata": {},
   "source": [
    "# 0. Note on tools\n",
    "\n",
    "### Almost every problem can be framed as a data problem\n",
    "\n",
    "This is a real world example of how you'd solve a Machine Learning prediciton problem.\n",
    "\n",
    "**Use Cases:**\n",
    "- Discover churn risk of customers\n",
    "- Predict optimal price levels (investments / retail)\n",
    "- Predict future revenues\n",
    "- Build recommendation systems\n",
    "- Customer value scoring\n",
    "- Fraud detection\n",
    "- Customer insights (characteristics)\n",
    "- Predict sentiment of text\n",
    "- Object detecton in images\n",
    "- etc etc..."
   ]
  },
  {
   "cell_type": "markdown",
   "metadata": {},
   "source": [
    "## Why Python?\n",
    "\n",
    "Python is general purpose and can do Software development, Web development, AI. Python has experienced incredible growth over the last couple of years, and many of the state of the art Machine Learning libraries being developed today have support for Python.\n",
    "\n",
    "<img src='https://zgab33vy595fw5zq-zippykid.netdna-ssl.com/wp-content/uploads/2017/09/growth_major_languages-1-1400x1200.png' width=400px></img>\n",
    "\n",
    "Source: https://stackoverflow.blog/2017/09/06/incredible-growth-python/\n",
    "\n",
    "# Everything is free!\n",
    "\n",
    "The best software today is open source and it's also enterprise-ready. Anyone can download and use them for free (even for business purposes).\n",
    "\n",
    "**Examples of great, free AI libraries:**\n",
    "* Anaconda\n",
    "* Google's TensorFlow\n",
    "* Scikit-learn\n",
    "* Pandas\n",
    "* Keras\n",
    "* Matplotlib\n",
    "* SQL\n",
    "* Spark\n",
    "* Numpy\n",
    "\n",
    "## State-of-the-Art algorithms\n",
    "\n",
    "No matter what algorithm you want to use (Linear Regression, Random Forests, Neural Networks, or Deep Learning), **all of the latest methods are implemented optimized for Python**.\n",
    "\n",
    "## Big Data\n",
    "\n",
    "Python code can run on any computer. Therefore, you can scale your computations and utilize for example cloud resources to run big data jobs.\n",
    "\n",
    "**Great tools for Big Data:**\n",
    "- Spark\n",
    "- Databricks\n",
    "- Hadoop / MapReduce\n",
    "- Kafka\n",
    "\n",
    "---"
   ]
  },
  {
   "cell_type": "markdown",
   "metadata": {},
   "source": [
    "# 1. Jupyter Notebooks\n",
    "\n",
    "1. Markdown cells to annotate work\n",
    "2. Code cells to run code"
   ]
  },
  {
   "cell_type": "markdown",
   "metadata": {},
   "source": [
    "----\n",
    "### 1.1 Markdown cells\n",
    "\n",
    "Format text **bold**, _italic_, `code`, \n",
    "\n",
    "#### Latex:\n",
    "$$\\int^{\\inf}_{-\\inf}\\text{erf}^{2\\pi x}\\text{dx} = \\frac{1}{\\sqrt{2\\pi}}$$\n",
    "\n",
    "#### Images:\n",
    "<img src='imgs/dx_logo.png' width='300px'>\n",
    "\n",
    "#### Bullet lists:\n",
    "- Unordered\n",
    "- list\n",
    "\n",
    "1. Ordered\n",
    "2. list\n",
    "\n",
    "<br><br>\n",
    "\n",
    "**Find a lot of useful Markdown commands here:** https://github.com/adam-p/markdown-here/wiki/Markdown-Cheatsheet\n",
    "\n",
    "---"
   ]
  },
  {
   "cell_type": "markdown",
   "metadata": {},
   "source": [
    "## 1.2 Code cells\n",
    "\n",
    "Run Python code sequentially"
   ]
  },
  {
   "cell_type": "code",
   "execution_count": 6,
   "metadata": {},
   "outputs": [
    {
     "data": {
      "text/plain": [
       "5"
      ]
     },
     "execution_count": 6,
     "metadata": {},
     "output_type": "execute_result"
    }
   ],
   "source": [
    "1+2\n",
    "3+2"
   ]
  },
  {
   "cell_type": "code",
   "execution_count": 7,
   "metadata": {},
   "outputs": [
    {
     "data": {
      "text/plain": [
       "4"
      ]
     },
     "execution_count": 7,
     "metadata": {},
     "output_type": "execute_result"
    }
   ],
   "source": [
    "def add(x,y):\n",
    "    return(x+y)\n",
    "\n",
    "add(2,2)"
   ]
  },
  {
   "cell_type": "code",
   "execution_count": 8,
   "metadata": {},
   "outputs": [
    {
     "name": "stdout",
     "output_type": "stream",
     "text": [
      " best UC Berkeley class!! Data-X is the\r"
     ]
    },
    {
     "ename": "KeyboardInterrupt",
     "evalue": "",
     "output_type": "error",
     "traceback": [
      "\u001b[0;31m--------------------------------------------\u001b[0m",
      "\u001b[0;31mKeyboardInterrupt\u001b[0mTraceback (most recent call last)",
      "\u001b[0;32m<ipython-input-8-aaf3d6ac814c>\u001b[0m in \u001b[0;36m<module>\u001b[0;34m()\u001b[0m\n\u001b[1;32m      6\u001b[0m     \u001b[0;32mfor\u001b[0m \u001b[0mi\u001b[0m \u001b[0;32min\u001b[0m \u001b[0mrange\u001b[0m\u001b[0;34m(\u001b[0m\u001b[0ml\u001b[0m\u001b[0;34m)\u001b[0m\u001b[0;34m:\u001b[0m\u001b[0;34m\u001b[0m\u001b[0m\n\u001b[1;32m      7\u001b[0m         \u001b[0mprint\u001b[0m\u001b[0;34m(\u001b[0m\u001b[0ms\u001b[0m\u001b[0;34m[\u001b[0m\u001b[0;34m-\u001b[0m\u001b[0mi\u001b[0m\u001b[0;34m:\u001b[0m\u001b[0;34m]\u001b[0m\u001b[0;34m+\u001b[0m\u001b[0ms\u001b[0m\u001b[0;34m[\u001b[0m\u001b[0;34m:\u001b[0m\u001b[0;34m-\u001b[0m\u001b[0mi\u001b[0m\u001b[0;34m]\u001b[0m\u001b[0;34m,\u001b[0m\u001b[0mend\u001b[0m\u001b[0;34m=\u001b[0m\u001b[0;34m'\\r'\u001b[0m\u001b[0;34m,\u001b[0m\u001b[0mflush\u001b[0m\u001b[0;34m=\u001b[0m\u001b[0;32mTrue\u001b[0m\u001b[0;34m)\u001b[0m\u001b[0;34m\u001b[0m\u001b[0m\n\u001b[0;32m----> 8\u001b[0;31m         \u001b[0mtime\u001b[0m\u001b[0;34m.\u001b[0m\u001b[0msleep\u001b[0m\u001b[0;34m(\u001b[0m\u001b[0;36m.1\u001b[0m\u001b[0;34m)\u001b[0m\u001b[0;34m\u001b[0m\u001b[0m\n\u001b[0m\u001b[1;32m      9\u001b[0m \u001b[0;34m\u001b[0m\u001b[0m\n",
      "\u001b[0;31mKeyboardInterrupt\u001b[0m: "
     ]
    }
   ],
   "source": [
    "import time\n",
    "s = 'Data-X is the best UC Berkeley class!! '\n",
    "l = len(s)\n",
    "\n",
    "while True:\n",
    "    for i in range(l):\n",
    "        print(s[-i:]+s[:-i],end='\\r',flush=True)\n",
    "        time.sleep(.1)\n",
    "    "
   ]
  },
  {
   "cell_type": "markdown",
   "metadata": {},
   "source": [
    "##### For more info about Jupyter Notebooks and Python see: [The Intro Notebook](../01-intro/python-jupyter-basics_short_afo.ipynb)\n",
    "\n",
    "---"
   ]
  },
  {
   "cell_type": "markdown",
   "metadata": {},
   "source": [
    "## 2. Python's data science trinity:\n",
    "### Numpy & Pandas (& Matplotlib)"
   ]
  },
  {
   "cell_type": "code",
   "execution_count": 9,
   "metadata": {},
   "outputs": [],
   "source": [
    "import numpy as np\n",
    "import pandas as pd\n",
    "\n",
    "import matplotlib.pyplot as plt\n",
    "%matplotlib inline"
   ]
  },
  {
   "cell_type": "markdown",
   "metadata": {},
   "source": [
    "## 2.1 Numpy\n",
    "Python's Numerical computation library. Great for multidim arrays, data manipulation, generation, and broadcasting."
   ]
  },
  {
   "cell_type": "code",
   "execution_count": 10,
   "metadata": {},
   "outputs": [
    {
     "data": {
      "text/plain": [
       "array([[1, 2, 3],\n",
       "       [4, 5, 6]])"
      ]
     },
     "execution_count": 10,
     "metadata": {},
     "output_type": "execute_result"
    }
   ],
   "source": [
    "np.array([[1,2,3],[4,5,6]])"
   ]
  },
  {
   "cell_type": "code",
   "execution_count": 11,
   "metadata": {},
   "outputs": [
    {
     "data": {
      "text/plain": [
       "array([[ 0.74562867,  0.0486068 ],\n",
       "       [-0.67487283, -0.25029024],\n",
       "       [ 1.15626201, -0.57527435],\n",
       "       [-0.97639403,  0.71276788],\n",
       "       [-1.18506434,  0.13723881]])"
      ]
     },
     "execution_count": 11,
     "metadata": {},
     "output_type": "execute_result"
    }
   ],
   "source": [
    "np.random.randn(10).reshape(5,2)"
   ]
  },
  {
   "cell_type": "code",
   "execution_count": 12,
   "metadata": {},
   "outputs": [
    {
     "data": {
      "text/plain": [
       "array([[1., 0., 0., 0., 0.],\n",
       "       [0., 1., 0., 0., 0.],\n",
       "       [0., 0., 1., 0., 0.],\n",
       "       [0., 0., 0., 1., 0.],\n",
       "       [0., 0., 0., 0., 1.]])"
      ]
     },
     "execution_count": 12,
     "metadata": {},
     "output_type": "execute_result"
    }
   ],
   "source": [
    "np.eye(5)"
   ]
  },
  {
   "cell_type": "code",
   "execution_count": 13,
   "metadata": {},
   "outputs": [
    {
     "data": {
      "text/plain": [
       "array([ 0.        ,  1.57079633,  3.14159265,  4.71238898,  6.28318531,\n",
       "        7.85398163,  9.42477796, 10.99557429, 12.56637061])"
      ]
     },
     "execution_count": 13,
     "metadata": {},
     "output_type": "execute_result"
    }
   ],
   "source": [
    "x = np.linspace(0,4*np.pi,9)\n",
    "x"
   ]
  },
  {
   "cell_type": "code",
   "execution_count": 14,
   "metadata": {},
   "outputs": [
    {
     "data": {
      "text/plain": [
       "array([ 0.,  1.,  0., -1., -0.,  1.,  0., -1., -0.])"
      ]
     },
     "execution_count": 14,
     "metadata": {},
     "output_type": "execute_result"
    }
   ],
   "source": [
    "np.round(np.sin(x),10)"
   ]
  },
  {
   "cell_type": "code",
   "execution_count": 15,
   "metadata": {},
   "outputs": [
    {
     "data": {
      "image/png": "[encoded data removed]",
      "text/plain": [
       "<Figure size 432x288 with 1 Axes>"
      ]
     },
     "metadata": {},
     "output_type": "display_data"
    }
   ],
   "source": [
    "x = np.linspace(0,10,100)\n",
    "y = np.sin(x) + np.random.normal(0,.1,100)\n",
    "plt.plot(x,y);"
   ]
  },
  {
   "cell_type": "markdown",
   "metadata": {},
   "source": [
    "##### For more info about Jupyter Notebooks and Python see: [The Numpy Notebook](../02-AI-stack/numpy.ipynb)\n",
    "\n",
    "---"
   ]
  },
  {
   "cell_type": "markdown",
   "metadata": {},
   "source": [
    "## 2.2 Pandas\n",
    "Python's tabular data library (my favorite!)"
   ]
  },
  {
   "cell_type": "code",
   "execution_count": 16,
   "metadata": {},
   "outputs": [
    {
     "data": {
      "text/html": [
       "<div>\n",
       "<style scoped>\n",
       "    .dataframe tbody tr th:only-of-type {\n",
       "        vertical-align: middle;\n",
       "    }\n",
       "\n",
       "    .dataframe tbody tr th {\n",
       "        vertical-align: top;\n",
       "    }\n",
       "\n",
       "    .dataframe thead th {\n",
       "        text-align: right;\n",
       "    }\n",
       "</style>\n",
       "<table border=\"1\" class=\"dataframe\">\n",
       "  <thead>\n",
       "    <tr style=\"text-align: right;\">\n",
       "      <th></th>\n",
       "      <th>0</th>\n",
       "      <th>1</th>\n",
       "      <th>2</th>\n",
       "      <th>3</th>\n",
       "      <th>4</th>\n",
       "      <th>5</th>\n",
       "    </tr>\n",
       "  </thead>\n",
       "  <tbody>\n",
       "    <tr>\n",
       "      <th>0</th>\n",
       "      <td>0.180392</td>\n",
       "      <td>-1.323788</td>\n",
       "      <td>-0.709621</td>\n",
       "      <td>-0.076805</td>\n",
       "      <td>-1.108328</td>\n",
       "      <td>-1.249897</td>\n",
       "    </tr>\n",
       "    <tr>\n",
       "      <th>1</th>\n",
       "      <td>1.779359</td>\n",
       "      <td>2.064447</td>\n",
       "      <td>-0.783838</td>\n",
       "      <td>-0.524770</td>\n",
       "      <td>-0.004255</td>\n",
       "      <td>1.128987</td>\n",
       "    </tr>\n",
       "    <tr>\n",
       "      <th>2</th>\n",
       "      <td>0.489815</td>\n",
       "      <td>-0.305573</td>\n",
       "      <td>0.196747</td>\n",
       "      <td>-0.524721</td>\n",
       "      <td>0.476839</td>\n",
       "      <td>-1.897621</td>\n",
       "    </tr>\n",
       "    <tr>\n",
       "      <th>3</th>\n",
       "      <td>0.080633</td>\n",
       "      <td>-1.045533</td>\n",
       "      <td>0.060527</td>\n",
       "      <td>1.811168</td>\n",
       "      <td>-1.012252</td>\n",
       "      <td>-2.698729</td>\n",
       "    </tr>\n",
       "    <tr>\n",
       "      <th>4</th>\n",
       "      <td>-1.894994</td>\n",
       "      <td>-1.684144</td>\n",
       "      <td>-0.369236</td>\n",
       "      <td>-0.387430</td>\n",
       "      <td>-1.248294</td>\n",
       "      <td>0.454361</td>\n",
       "    </tr>\n",
       "    <tr>\n",
       "      <th>5</th>\n",
       "      <td>0.952431</td>\n",
       "      <td>-0.699643</td>\n",
       "      <td>-0.614335</td>\n",
       "      <td>-0.981936</td>\n",
       "      <td>-0.051740</td>\n",
       "      <td>1.632168</td>\n",
       "    </tr>\n",
       "    <tr>\n",
       "      <th>6</th>\n",
       "      <td>-0.194322</td>\n",
       "      <td>-2.021760</td>\n",
       "      <td>1.169097</td>\n",
       "      <td>-0.819832</td>\n",
       "      <td>-0.313248</td>\n",
       "      <td>-0.978625</td>\n",
       "    </tr>\n",
       "    <tr>\n",
       "      <th>7</th>\n",
       "      <td>1.413214</td>\n",
       "      <td>-0.689088</td>\n",
       "      <td>0.867004</td>\n",
       "      <td>0.535125</td>\n",
       "      <td>0.069258</td>\n",
       "      <td>-1.606911</td>\n",
       "    </tr>\n",
       "    <tr>\n",
       "      <th>8</th>\n",
       "      <td>-0.933705</td>\n",
       "      <td>-0.708602</td>\n",
       "      <td>0.896151</td>\n",
       "      <td>1.439796</td>\n",
       "      <td>-0.436123</td>\n",
       "      <td>0.906631</td>\n",
       "    </tr>\n",
       "    <tr>\n",
       "      <th>9</th>\n",
       "      <td>-0.326036</td>\n",
       "      <td>0.080049</td>\n",
       "      <td>-1.281727</td>\n",
       "      <td>-0.312406</td>\n",
       "      <td>0.860485</td>\n",
       "      <td>-0.190859</td>\n",
       "    </tr>\n",
       "    <tr>\n",
       "      <th>10</th>\n",
       "      <td>-0.037969</td>\n",
       "      <td>0.613154</td>\n",
       "      <td>-0.780651</td>\n",
       "      <td>1.582745</td>\n",
       "      <td>2.679898</td>\n",
       "      <td>-0.794721</td>\n",
       "    </tr>\n",
       "    <tr>\n",
       "      <th>11</th>\n",
       "      <td>-0.876523</td>\n",
       "      <td>-1.344248</td>\n",
       "      <td>-1.814433</td>\n",
       "      <td>0.169623</td>\n",
       "      <td>0.745099</td>\n",
       "      <td>-0.751244</td>\n",
       "    </tr>\n",
       "    <tr>\n",
       "      <th>12</th>\n",
       "      <td>0.323897</td>\n",
       "      <td>-0.076347</td>\n",
       "      <td>0.405778</td>\n",
       "      <td>-0.789652</td>\n",
       "      <td>0.321080</td>\n",
       "      <td>-0.641060</td>\n",
       "    </tr>\n",
       "    <tr>\n",
       "      <th>13</th>\n",
       "      <td>-1.038246</td>\n",
       "      <td>-0.096380</td>\n",
       "      <td>-0.048636</td>\n",
       "      <td>-1.122800</td>\n",
       "      <td>0.119283</td>\n",
       "      <td>1.005498</td>\n",
       "    </tr>\n",
       "    <tr>\n",
       "      <th>14</th>\n",
       "      <td>0.767552</td>\n",
       "      <td>-0.885713</td>\n",
       "      <td>-0.550673</td>\n",
       "      <td>0.815845</td>\n",
       "      <td>-0.256274</td>\n",
       "      <td>-0.546862</td>\n",
       "    </tr>\n",
       "    <tr>\n",
       "      <th>15</th>\n",
       "      <td>1.472331</td>\n",
       "      <td>0.904508</td>\n",
       "      <td>0.243524</td>\n",
       "      <td>-1.692492</td>\n",
       "      <td>-0.190622</td>\n",
       "      <td>1.280605</td>\n",
       "    </tr>\n",
       "    <tr>\n",
       "      <th>16</th>\n",
       "      <td>0.477851</td>\n",
       "      <td>-0.613560</td>\n",
       "      <td>-2.026870</td>\n",
       "      <td>-0.019286</td>\n",
       "      <td>-0.018444</td>\n",
       "      <td>0.767479</td>\n",
       "    </tr>\n",
       "    <tr>\n",
       "      <th>17</th>\n",
       "      <td>-0.986643</td>\n",
       "      <td>0.282039</td>\n",
       "      <td>-0.373597</td>\n",
       "      <td>0.042560</td>\n",
       "      <td>1.589031</td>\n",
       "      <td>0.988990</td>\n",
       "    </tr>\n",
       "    <tr>\n",
       "      <th>18</th>\n",
       "      <td>-0.862332</td>\n",
       "      <td>-0.741035</td>\n",
       "      <td>0.159147</td>\n",
       "      <td>-0.877932</td>\n",
       "      <td>-0.129239</td>\n",
       "      <td>0.525744</td>\n",
       "    </tr>\n",
       "    <tr>\n",
       "      <th>19</th>\n",
       "      <td>-0.022209</td>\n",
       "      <td>-0.641405</td>\n",
       "      <td>-0.515822</td>\n",
       "      <td>-0.411878</td>\n",
       "      <td>-1.150848</td>\n",
       "      <td>1.951283</td>\n",
       "    </tr>\n",
       "  </tbody>\n",
       "</table>\n",
       "</div>"
      ],
      "text/plain": [
       "           0         1         2         3         4         5\n",
       "0   0.180392 -1.323788 -0.709621 -0.076805 -1.108328 -1.249897\n",
       "1   1.779359  2.064447 -0.783838 -0.524770 -0.004255  1.128987\n",
       "2   0.489815 -0.305573  0.196747 -0.524721  0.476839 -1.897621\n",
       "3   0.080633 -1.045533  0.060527  1.811168 -1.012252 -2.698729\n",
       "4  -1.894994 -1.684144 -0.369236 -0.387430 -1.248294  0.454361\n",
       "5   0.952431 -0.699643 -0.614335 -0.981936 -0.051740  1.632168\n",
       "6  -0.194322 -2.021760  1.169097 -0.819832 -0.313248 -0.978625\n",
       "7   1.413214 -0.689088  0.867004  0.535125  0.069258 -1.606911\n",
       "8  -0.933705 -0.708602  0.896151  1.439796 -0.436123  0.906631\n",
       "9  -0.326036  0.080049 -1.281727 -0.312406  0.860485 -0.190859\n",
       "10 -0.037969  0.613154 -0.780651  1.582745  2.679898 -0.794721\n",
       "11 -0.876523 -1.344248 -1.814433  0.169623  0.745099 -0.751244\n",
       "12  0.323897 -0.076347  0.405778 -0.789652  0.321080 -0.641060\n",
       "13 -1.038246 -0.096380 -0.048636 -1.122800  0.119283  1.005498\n",
       "14  0.767552 -0.885713 -0.550673  0.815845 -0.256274 -0.546862\n",
       "15  1.472331  0.904508  0.243524 -1.692492 -0.190622  1.280605\n",
       "16  0.477851 -0.613560 -2.026870 -0.019286 -0.018444  0.767479\n",
       "17 -0.986643  0.282039 -0.373597  0.042560  1.589031  0.988990\n",
       "18 -0.862332 -0.741035  0.159147 -0.877932 -0.129239  0.525744\n",
       "19 -0.022209 -0.641405 -0.515822 -0.411878 -1.150848  1.951283"
      ]
     },
     "execution_count": 16,
     "metadata": {},
     "output_type": "execute_result"
    }
   ],
   "source": [
    "df = pd.DataFrame(np.random.randn(120).reshape(20,6))\n",
    "df"
   ]
  },
  {
   "cell_type": "code",
   "execution_count": 17,
   "metadata": {},
   "outputs": [],
   "source": [
    "dfg = pd.read_csv('./02-AI-stack/data/googl.csv').drop('Unnamed: 0',axis=1) # Google stock data"
   ]
  },
  {
   "cell_type": "code",
   "execution_count": 18,
   "metadata": {},
   "outputs": [
    {
     "data": {
      "text/html": [
       "<div>\n",
       "<style scoped>\n",
       "    .dataframe tbody tr th:only-of-type {\n",
       "        vertical-align: middle;\n",
       "    }\n",
       "\n",
       "    .dataframe tbody tr th {\n",
       "        vertical-align: top;\n",
       "    }\n",
       "\n",
       "    .dataframe thead th {\n",
       "        text-align: right;\n",
       "    }\n",
       "</style>\n",
       "<table border=\"1\" class=\"dataframe\">\n",
       "  <thead>\n",
       "    <tr style=\"text-align: right;\">\n",
       "      <th></th>\n",
       "      <th>Date</th>\n",
       "      <th>Open</th>\n",
       "      <th>High</th>\n",
       "      <th>Low</th>\n",
       "      <th>Close</th>\n",
       "      <th>Volume</th>\n",
       "    </tr>\n",
       "  </thead>\n",
       "  <tbody>\n",
       "    <tr>\n",
       "      <th>0</th>\n",
       "      <td>19-Jan-18</td>\n",
       "      <td>1138.03</td>\n",
       "      <td>1143.78</td>\n",
       "      <td>1132.50</td>\n",
       "      <td>1143.50</td>\n",
       "      <td>1527554</td>\n",
       "    </tr>\n",
       "    <tr>\n",
       "      <th>1</th>\n",
       "      <td>18-Jan-18</td>\n",
       "      <td>1139.35</td>\n",
       "      <td>1140.58</td>\n",
       "      <td>1124.46</td>\n",
       "      <td>1135.97</td>\n",
       "      <td>1374873</td>\n",
       "    </tr>\n",
       "    <tr>\n",
       "      <th>2</th>\n",
       "      <td>17-Jan-18</td>\n",
       "      <td>1136.36</td>\n",
       "      <td>1139.32</td>\n",
       "      <td>1123.49</td>\n",
       "      <td>1139.10</td>\n",
       "      <td>1391510</td>\n",
       "    </tr>\n",
       "    <tr>\n",
       "      <th>3</th>\n",
       "      <td>16-Jan-18</td>\n",
       "      <td>1140.31</td>\n",
       "      <td>1148.88</td>\n",
       "      <td>1126.66</td>\n",
       "      <td>1130.70</td>\n",
       "      <td>1823100</td>\n",
       "    </tr>\n",
       "    <tr>\n",
       "      <th>4</th>\n",
       "      <td>12-Jan-18</td>\n",
       "      <td>1110.10</td>\n",
       "      <td>1131.30</td>\n",
       "      <td>1108.01</td>\n",
       "      <td>1130.65</td>\n",
       "      <td>1929306</td>\n",
       "    </tr>\n",
       "  </tbody>\n",
       "</table>\n",
       "</div>"
      ],
      "text/plain": [
       "        Date     Open     High      Low    Close   Volume\n",
       "0  19-Jan-18  1138.03  1143.78  1132.50  1143.50  1527554\n",
       "1  18-Jan-18  1139.35  1140.58  1124.46  1135.97  1374873\n",
       "2  17-Jan-18  1136.36  1139.32  1123.49  1139.10  1391510\n",
       "3  16-Jan-18  1140.31  1148.88  1126.66  1130.70  1823100\n",
       "4  12-Jan-18  1110.10  1131.30  1108.01  1130.65  1929306"
      ]
     },
     "execution_count": 18,
     "metadata": {},
     "output_type": "execute_result"
    }
   ],
   "source": [
    "dfg.head()"
   ]
  },
  {
   "cell_type": "code",
   "execution_count": 19,
   "metadata": {},
   "outputs": [],
   "source": [
    "dfg = dfg.set_index(pd.to_datetime(dfg['Date'])).drop('Date',axis=1)"
   ]
  },
  {
   "cell_type": "code",
   "execution_count": 20,
   "metadata": {},
   "outputs": [
    {
     "data": {
      "text/html": [
       "<div>\n",
       "<style scoped>\n",
       "    .dataframe tbody tr th:only-of-type {\n",
       "        vertical-align: middle;\n",
       "    }\n",
       "\n",
       "    .dataframe tbody tr th {\n",
       "        vertical-align: top;\n",
       "    }\n",
       "\n",
       "    .dataframe thead th {\n",
       "        text-align: right;\n",
       "    }\n",
       "</style>\n",
       "<table border=\"1\" class=\"dataframe\">\n",
       "  <thead>\n",
       "    <tr style=\"text-align: right;\">\n",
       "      <th></th>\n",
       "      <th>Open</th>\n",
       "      <th>High</th>\n",
       "      <th>Low</th>\n",
       "      <th>Close</th>\n",
       "      <th>Volume</th>\n",
       "    </tr>\n",
       "    <tr>\n",
       "      <th>Date</th>\n",
       "      <th></th>\n",
       "      <th></th>\n",
       "      <th></th>\n",
       "      <th></th>\n",
       "      <th></th>\n",
       "    </tr>\n",
       "  </thead>\n",
       "  <tbody>\n",
       "    <tr>\n",
       "      <th>2018-01-19</th>\n",
       "      <td>1138.03</td>\n",
       "      <td>1143.78</td>\n",
       "      <td>1132.50</td>\n",
       "      <td>1143.50</td>\n",
       "      <td>1527554</td>\n",
       "    </tr>\n",
       "    <tr>\n",
       "      <th>2018-01-18</th>\n",
       "      <td>1139.35</td>\n",
       "      <td>1140.58</td>\n",
       "      <td>1124.46</td>\n",
       "      <td>1135.97</td>\n",
       "      <td>1374873</td>\n",
       "    </tr>\n",
       "    <tr>\n",
       "      <th>2018-01-17</th>\n",
       "      <td>1136.36</td>\n",
       "      <td>1139.32</td>\n",
       "      <td>1123.49</td>\n",
       "      <td>1139.10</td>\n",
       "      <td>1391510</td>\n",
       "    </tr>\n",
       "    <tr>\n",
       "      <th>2018-01-16</th>\n",
       "      <td>1140.31</td>\n",
       "      <td>1148.88</td>\n",
       "      <td>1126.66</td>\n",
       "      <td>1130.70</td>\n",
       "      <td>1823100</td>\n",
       "    </tr>\n",
       "    <tr>\n",
       "      <th>2018-01-12</th>\n",
       "      <td>1110.10</td>\n",
       "      <td>1131.30</td>\n",
       "      <td>1108.01</td>\n",
       "      <td>1130.65</td>\n",
       "      <td>1929306</td>\n",
       "    </tr>\n",
       "  </tbody>\n",
       "</table>\n",
       "</div>"
      ],
      "text/plain": [
       "               Open     High      Low    Close   Volume\n",
       "Date                                                   \n",
       "2018-01-19  1138.03  1143.78  1132.50  1143.50  1527554\n",
       "2018-01-18  1139.35  1140.58  1124.46  1135.97  1374873\n",
       "2018-01-17  1136.36  1139.32  1123.49  1139.10  1391510\n",
       "2018-01-16  1140.31  1148.88  1126.66  1130.70  1823100\n",
       "2018-01-12  1110.10  1131.30  1108.01  1130.65  1929306"
      ]
     },
     "execution_count": 20,
     "metadata": {},
     "output_type": "execute_result"
    }
   ],
   "source": [
    "dfg.head()"
   ]
  },
  {
   "cell_type": "code",
   "execution_count": 22,
   "metadata": {},
   "outputs": [
    {
     "data": {
      "text/html": [
       "<div>\n",
       "<style scoped>\n",
       "    .dataframe tbody tr th:only-of-type {\n",
       "        vertical-align: middle;\n",
       "    }\n",
       "\n",
       "    .dataframe tbody tr th {\n",
       "        vertical-align: top;\n",
       "    }\n",
       "\n",
       "    .dataframe thead th {\n",
       "        text-align: right;\n",
       "    }\n",
       "</style>\n",
       "<table border=\"1\" class=\"dataframe\">\n",
       "  <thead>\n",
       "    <tr style=\"text-align: right;\">\n",
       "      <th></th>\n",
       "      <th>Open</th>\n",
       "      <th>High</th>\n",
       "      <th>Low</th>\n",
       "      <th>Close</th>\n",
       "      <th>Volume</th>\n",
       "    </tr>\n",
       "    <tr>\n",
       "      <th>Date</th>\n",
       "      <th></th>\n",
       "      <th></th>\n",
       "      <th></th>\n",
       "      <th></th>\n",
       "      <th></th>\n",
       "    </tr>\n",
       "  </thead>\n",
       "  <tbody>\n",
       "    <tr>\n",
       "      <th>2017-04-28</th>\n",
       "      <td>929.00</td>\n",
       "      <td>935.90</td>\n",
       "      <td>923.22</td>\n",
       "      <td>924.52</td>\n",
       "      <td>3845857</td>\n",
       "    </tr>\n",
       "    <tr>\n",
       "      <th>2017-04-27</th>\n",
       "      <td>890.00</td>\n",
       "      <td>893.38</td>\n",
       "      <td>887.18</td>\n",
       "      <td>891.44</td>\n",
       "      <td>2342303</td>\n",
       "    </tr>\n",
       "    <tr>\n",
       "      <th>2017-04-26</th>\n",
       "      <td>891.39</td>\n",
       "      <td>892.99</td>\n",
       "      <td>885.15</td>\n",
       "      <td>889.14</td>\n",
       "      <td>1323297</td>\n",
       "    </tr>\n",
       "    <tr>\n",
       "      <th>2017-04-25</th>\n",
       "      <td>882.26</td>\n",
       "      <td>892.25</td>\n",
       "      <td>879.28</td>\n",
       "      <td>888.84</td>\n",
       "      <td>2038032</td>\n",
       "    </tr>\n",
       "    <tr>\n",
       "      <th>2017-04-24</th>\n",
       "      <td>868.44</td>\n",
       "      <td>879.96</td>\n",
       "      <td>866.11</td>\n",
       "      <td>878.93</td>\n",
       "      <td>1696483</td>\n",
       "    </tr>\n",
       "    <tr>\n",
       "      <th>2017-04-21</th>\n",
       "      <td>860.62</td>\n",
       "      <td>862.44</td>\n",
       "      <td>857.73</td>\n",
       "      <td>858.95</td>\n",
       "      <td>1172870</td>\n",
       "    </tr>\n",
       "    <tr>\n",
       "      <th>2017-04-20</th>\n",
       "      <td>859.74</td>\n",
       "      <td>863.93</td>\n",
       "      <td>857.50</td>\n",
       "      <td>860.08</td>\n",
       "      <td>1188843</td>\n",
       "    </tr>\n",
       "    <tr>\n",
       "      <th>2017-04-19</th>\n",
       "      <td>857.38</td>\n",
       "      <td>860.20</td>\n",
       "      <td>853.53</td>\n",
       "      <td>856.51</td>\n",
       "      <td>1080336</td>\n",
       "    </tr>\n",
       "    <tr>\n",
       "      <th>2017-04-18</th>\n",
       "      <td>852.54</td>\n",
       "      <td>857.39</td>\n",
       "      <td>851.25</td>\n",
       "      <td>853.99</td>\n",
       "      <td>936201</td>\n",
       "    </tr>\n",
       "    <tr>\n",
       "      <th>2017-04-17</th>\n",
       "      <td>841.38</td>\n",
       "      <td>855.64</td>\n",
       "      <td>841.03</td>\n",
       "      <td>855.13</td>\n",
       "      <td>1049125</td>\n",
       "    </tr>\n",
       "    <tr>\n",
       "      <th>2017-04-13</th>\n",
       "      <td>841.04</td>\n",
       "      <td>843.73</td>\n",
       "      <td>837.85</td>\n",
       "      <td>840.18</td>\n",
       "      <td>1073650</td>\n",
       "    </tr>\n",
       "    <tr>\n",
       "      <th>2017-04-12</th>\n",
       "      <td>838.46</td>\n",
       "      <td>843.72</td>\n",
       "      <td>837.59</td>\n",
       "      <td>841.46</td>\n",
       "      <td>1135775</td>\n",
       "    </tr>\n",
       "    <tr>\n",
       "      <th>2017-04-11</th>\n",
       "      <td>841.70</td>\n",
       "      <td>844.63</td>\n",
       "      <td>834.60</td>\n",
       "      <td>839.88</td>\n",
       "      <td>974343</td>\n",
       "    </tr>\n",
       "    <tr>\n",
       "      <th>2017-04-10</th>\n",
       "      <td>841.54</td>\n",
       "      <td>846.74</td>\n",
       "      <td>840.79</td>\n",
       "      <td>841.70</td>\n",
       "      <td>1046215</td>\n",
       "    </tr>\n",
       "    <tr>\n",
       "      <th>2017-04-07</th>\n",
       "      <td>845.00</td>\n",
       "      <td>845.88</td>\n",
       "      <td>837.30</td>\n",
       "      <td>842.10</td>\n",
       "      <td>1111610</td>\n",
       "    </tr>\n",
       "    <tr>\n",
       "      <th>2017-04-06</th>\n",
       "      <td>849.50</td>\n",
       "      <td>853.59</td>\n",
       "      <td>844.00</td>\n",
       "      <td>845.10</td>\n",
       "      <td>1533564</td>\n",
       "    </tr>\n",
       "    <tr>\n",
       "      <th>2017-04-05</th>\n",
       "      <td>854.71</td>\n",
       "      <td>860.59</td>\n",
       "      <td>847.52</td>\n",
       "      <td>848.91</td>\n",
       "      <td>1855153</td>\n",
       "    </tr>\n",
       "    <tr>\n",
       "      <th>2017-04-04</th>\n",
       "      <td>848.00</td>\n",
       "      <td>853.00</td>\n",
       "      <td>847.50</td>\n",
       "      <td>852.57</td>\n",
       "      <td>1348494</td>\n",
       "    </tr>\n",
       "    <tr>\n",
       "      <th>2017-04-03</th>\n",
       "      <td>848.75</td>\n",
       "      <td>859.00</td>\n",
       "      <td>847.53</td>\n",
       "      <td>856.75</td>\n",
       "      <td>1969402</td>\n",
       "    </tr>\n",
       "  </tbody>\n",
       "</table>\n",
       "</div>"
      ],
      "text/plain": [
       "              Open    High     Low   Close   Volume\n",
       "Date                                               \n",
       "2017-04-28  929.00  935.90  923.22  924.52  3845857\n",
       "2017-04-27  890.00  893.38  887.18  891.44  2342303\n",
       "2017-04-26  891.39  892.99  885.15  889.14  1323297\n",
       "2017-04-25  882.26  892.25  879.28  888.84  2038032\n",
       "2017-04-24  868.44  879.96  866.11  878.93  1696483\n",
       "2017-04-21  860.62  862.44  857.73  858.95  1172870\n",
       "2017-04-20  859.74  863.93  857.50  860.08  1188843\n",
       "2017-04-19  857.38  860.20  853.53  856.51  1080336\n",
       "2017-04-18  852.54  857.39  851.25  853.99   936201\n",
       "2017-04-17  841.38  855.64  841.03  855.13  1049125\n",
       "2017-04-13  841.04  843.73  837.85  840.18  1073650\n",
       "2017-04-12  838.46  843.72  837.59  841.46  1135775\n",
       "2017-04-11  841.70  844.63  834.60  839.88   974343\n",
       "2017-04-10  841.54  846.74  840.79  841.70  1046215\n",
       "2017-04-07  845.00  845.88  837.30  842.10  1111610\n",
       "2017-04-06  849.50  853.59  844.00  845.10  1533564\n",
       "2017-04-05  854.71  860.59  847.52  848.91  1855153\n",
       "2017-04-04  848.00  853.00  847.50  852.57  1348494\n",
       "2017-04-03  848.75  859.00  847.53  856.75  1969402"
      ]
     },
     "execution_count": 22,
     "metadata": {},
     "output_type": "execute_result"
    }
   ],
   "source": [
    "dfg['2017-04']"
   ]
  },
  {
   "cell_type": "code",
   "execution_count": 23,
   "metadata": {},
   "outputs": [
    {
     "data": {
      "text/html": [
       "<div>\n",
       "<style scoped>\n",
       "    .dataframe tbody tr th:only-of-type {\n",
       "        vertical-align: middle;\n",
       "    }\n",
       "\n",
       "    .dataframe tbody tr th {\n",
       "        vertical-align: top;\n",
       "    }\n",
       "\n",
       "    .dataframe thead th {\n",
       "        text-align: right;\n",
       "    }\n",
       "</style>\n",
       "<table border=\"1\" class=\"dataframe\">\n",
       "  <thead>\n",
       "    <tr style=\"text-align: right;\">\n",
       "      <th></th>\n",
       "      <th>Open</th>\n",
       "      <th>High</th>\n",
       "      <th>Low</th>\n",
       "      <th>Close</th>\n",
       "      <th>Volume</th>\n",
       "    </tr>\n",
       "  </thead>\n",
       "  <tbody>\n",
       "    <tr>\n",
       "      <th>count</th>\n",
       "      <td>251.000000</td>\n",
       "      <td>251.000000</td>\n",
       "      <td>251.000000</td>\n",
       "      <td>251.000000</td>\n",
       "      <td>2.510000e+02</td>\n",
       "    </tr>\n",
       "    <tr>\n",
       "      <th>mean</th>\n",
       "      <td>954.393944</td>\n",
       "      <td>960.413944</td>\n",
       "      <td>948.097490</td>\n",
       "      <td>954.886295</td>\n",
       "      <td>1.618960e+06</td>\n",
       "    </tr>\n",
       "    <tr>\n",
       "      <th>std</th>\n",
       "      <td>79.500261</td>\n",
       "      <td>80.542821</td>\n",
       "      <td>78.730193</td>\n",
       "      <td>79.808157</td>\n",
       "      <td>6.907057e+05</td>\n",
       "    </tr>\n",
       "    <tr>\n",
       "      <th>min</th>\n",
       "      <td>815.000000</td>\n",
       "      <td>822.390000</td>\n",
       "      <td>812.050000</td>\n",
       "      <td>815.240000</td>\n",
       "      <td>7.268980e+05</td>\n",
       "    </tr>\n",
       "    <tr>\n",
       "      <th>25%</th>\n",
       "      <td>872.105000</td>\n",
       "      <td>877.190000</td>\n",
       "      <td>867.945000</td>\n",
       "      <td>875.650000</td>\n",
       "      <td>1.191540e+06</td>\n",
       "    </tr>\n",
       "    <tr>\n",
       "      <th>50%</th>\n",
       "      <td>951.350000</td>\n",
       "      <td>959.560000</td>\n",
       "      <td>945.310000</td>\n",
       "      <td>954.720000</td>\n",
       "      <td>1.440982e+06</td>\n",
       "    </tr>\n",
       "    <tr>\n",
       "      <th>75%</th>\n",
       "      <td>1005.335000</td>\n",
       "      <td>1008.630000</td>\n",
       "      <td>999.200000</td>\n",
       "      <td>1005.360000</td>\n",
       "      <td>1.787760e+06</td>\n",
       "    </tr>\n",
       "    <tr>\n",
       "      <th>max</th>\n",
       "      <td>1140.310000</td>\n",
       "      <td>1148.880000</td>\n",
       "      <td>1132.500000</td>\n",
       "      <td>1143.500000</td>\n",
       "      <td>5.933602e+06</td>\n",
       "    </tr>\n",
       "  </tbody>\n",
       "</table>\n",
       "</div>"
      ],
      "text/plain": [
       "              Open         High          Low        Close        Volume\n",
       "count   251.000000   251.000000   251.000000   251.000000  2.510000e+02\n",
       "mean    954.393944   960.413944   948.097490   954.886295  1.618960e+06\n",
       "std      79.500261    80.542821    78.730193    79.808157  6.907057e+05\n",
       "min     815.000000   822.390000   812.050000   815.240000  7.268980e+05\n",
       "25%     872.105000   877.190000   867.945000   875.650000  1.191540e+06\n",
       "50%     951.350000   959.560000   945.310000   954.720000  1.440982e+06\n",
       "75%    1005.335000  1008.630000   999.200000  1005.360000  1.787760e+06\n",
       "max    1140.310000  1148.880000  1132.500000  1143.500000  5.933602e+06"
      ]
     },
     "execution_count": 23,
     "metadata": {},
     "output_type": "execute_result"
    }
   ],
   "source": [
    "dfg.describe()"
   ]
  },
  {
   "cell_type": "code",
   "execution_count": 24,
   "metadata": {
    "scrolled": true
   },
   "outputs": [
    {
     "data": {
      "text/plain": [
       "7.480526315789473"
      ]
     },
     "execution_count": 24,
     "metadata": {},
     "output_type": "execute_result"
    }
   ],
   "source": [
    "np.mean(dfg['2017-02']['High']-dfg['2017-02']['Low'])"
   ]
  },
  {
   "cell_type": "code",
   "execution_count": 25,
   "metadata": {},
   "outputs": [
    {
     "data": {
      "image/png": "[encoded data removed]",
      "text/plain": [
       "<Figure size 432x288 with 1 Axes>"
      ]
     },
     "metadata": {},
     "output_type": "display_data"
    }
   ],
   "source": [
    "dfg['2017-02'][['Low','High']].plot()\n",
    "plt.title('Feb 2017 Low High for Google')\n",
    "plt.xlabel('Date')\n",
    "plt.ylabel('Price');"
   ]
  },
  {
   "cell_type": "markdown",
   "metadata": {},
   "source": [
    "##### For more info about Pandas see: [The Pandas Notebook](../02-AI-stack/pandas.ipynb)\n",
    "\n",
    "##### For more info about Pandas see: [The Matplotlib Notebook](../02-AI-stack/matplotlib.ipynb)\n",
    "\n",
    "---"
   ]
  },
  {
   "cell_type": "code",
   "execution_count": null,
   "metadata": {},
   "outputs": [],
   "source": []
  },
  {
   "cell_type": "code",
   "execution_count": null,
   "metadata": {},
   "outputs": [],
   "source": []
  },
  {
   "cell_type": "code",
   "execution_count": null,
   "metadata": {},
   "outputs": [],
   "source": []
  },
  {
   "cell_type": "markdown",
   "metadata": {},
   "source": [
    "## 3. Machine Learning with Scikit-Learn"
   ]
  },
  {
   "cell_type": "code",
   "execution_count": null,
   "metadata": {},
   "outputs": [],
   "source": [
    "from sklearn import datasets"
   ]
  },
  {
   "cell_type": "code",
   "execution_count": null,
   "metadata": {},
   "outputs": [],
   "source": [
    "data = datasets.load_iris()"
   ]
  },
  {
   "cell_type": "code",
   "execution_count": null,
   "metadata": {},
   "outputs": [],
   "source": [
    "print(data.DESCR[:1050])"
   ]
  },
  {
   "cell_type": "code",
   "execution_count": null,
   "metadata": {},
   "outputs": [],
   "source": [
    "X = pd.DataFrame(data.data,columns=data.feature_names)\n",
    "X.head()"
   ]
  },
  {
   "cell_type": "code",
   "execution_count": null,
   "metadata": {},
   "outputs": [],
   "source": [
    "Y = pd.Series(data.target,index=np.repeat(data.target_names,50))\n",
    "Y.value_counts()"
   ]
  },
  {
   "cell_type": "code",
   "execution_count": null,
   "metadata": {},
   "outputs": [],
   "source": [
    "from sklearn.model_selection import train_test_split\n",
    "\n",
    "X_train, X_val, Y_train, Y_val = train_test_split(X,Y,test_size=0.4,shuffle=True,random_state=1)"
   ]
  },
  {
   "cell_type": "code",
   "execution_count": null,
   "metadata": {},
   "outputs": [],
   "source": [
    "X_train.shape, Y_train.shape"
   ]
  },
  {
   "cell_type": "code",
   "execution_count": null,
   "metadata": {},
   "outputs": [],
   "source": [
    "X_val.shape, Y_val.shape"
   ]
  },
  {
   "cell_type": "code",
   "execution_count": null,
   "metadata": {},
   "outputs": [],
   "source": [
    "from sklearn.ensemble import RandomForestClassifier\n",
    "from sklearn.linear_model import LogisticRegression\n",
    "from sklearn.svm import LinearSVC"
   ]
  },
  {
   "cell_type": "markdown",
   "metadata": {},
   "source": [
    "#### Logistic Regression (Softmax)"
   ]
  },
  {
   "cell_type": "code",
   "execution_count": null,
   "metadata": {},
   "outputs": [],
   "source": [
    "model = LogisticRegression() # instantiate\n",
    "model.fit(X_train,Y_train) # train\n",
    "print('Accuracy on validation:',np.round(model.score(X_val,Y_val)*100,2),'%') # predict and evaluate"
   ]
  },
  {
   "cell_type": "markdown",
   "metadata": {},
   "source": [
    "#### Random Forest"
   ]
  },
  {
   "cell_type": "code",
   "execution_count": null,
   "metadata": {},
   "outputs": [],
   "source": [
    "model = RandomForestClassifier() # instantiate\n",
    "model.fit(X_train,Y_train) # train\n",
    "print('Accuracy on validation:',np.round(model.score(X_val,Y_val)*100,2),'%') # predict and evaluate"
   ]
  },
  {
   "cell_type": "markdown",
   "metadata": {},
   "source": [
    "#### Support Vector Machine"
   ]
  },
  {
   "cell_type": "code",
   "execution_count": null,
   "metadata": {},
   "outputs": [],
   "source": [
    "model = LinearSVC() # instantiate\n",
    "model.fit(X_train,Y_train) #train\n",
    "print('Accuracy on validation:',np.round(model.score(X_val,Y_val)*100,2),'%') # predict and evaluate"
   ]
  },
  {
   "cell_type": "markdown",
   "metadata": {},
   "source": [
    "##### For more info about Scikit-learn & ML workflow see: [The Titanic Notebook](../04-tools-prediction-titanic/titanic.ipynb)\n",
    "\n",
    "----"
   ]
  },
  {
   "cell_type": "markdown",
   "metadata": {},
   "source": [
    "## Neural Networks / Deep Learning: Keras (TensorFlow backend)"
   ]
  },
  {
   "cell_type": "code",
   "execution_count": null,
   "metadata": {},
   "outputs": [],
   "source": [
    "from keras.models import Sequential\n",
    "from keras.layers import Dense"
   ]
  },
  {
   "cell_type": "code",
   "execution_count": null,
   "metadata": {},
   "outputs": [],
   "source": [
    "model = Sequential()\n",
    "model.add(Dense(100,input_shape=[4],activation='relu'))\n",
    "model.add(Dense(50,activation='relu'))\n",
    "model.add(Dense(3,activation='softmax'))"
   ]
  },
  {
   "cell_type": "code",
   "execution_count": null,
   "metadata": {},
   "outputs": [],
   "source": [
    "model.summary()"
   ]
  },
  {
   "cell_type": "code",
   "execution_count": null,
   "metadata": {},
   "outputs": [],
   "source": [
    "model.compile(optimizer='adam',loss='categorical_crossentropy',metrics=['accuracy'])"
   ]
  },
  {
   "cell_type": "code",
   "execution_count": null,
   "metadata": {},
   "outputs": [],
   "source": [
    "Y_train = pd.get_dummies(Y_train)\n",
    "Y_val = pd.get_dummies(Y_val)"
   ]
  },
  {
   "cell_type": "code",
   "execution_count": null,
   "metadata": {},
   "outputs": [],
   "source": [
    "model.fit(X_train,Y_train,batch_size=10,epochs=100,verbose=0)"
   ]
  },
  {
   "cell_type": "code",
   "execution_count": null,
   "metadata": {},
   "outputs": [],
   "source": [
    "_,acc = model.evaluate(X_val,Y_val,verbose=0)\n",
    "print('Accuracy',np.round(acc*100),'%')"
   ]
  },
  {
   "cell_type": "markdown",
   "metadata": {},
   "source": [
    "##### For more info about Keras / TensorFlow see: [TensorFlow](../05-deep-learning/) and [Keras](../05-deep-learning/catsVSdogs)"
   ]
  },
  {
   "cell_type": "code",
   "execution_count": null,
   "metadata": {},
   "outputs": [],
   "source": []
  }
 ],
 "metadata": {
  "kernelspec": {
   "display_name": "Python [default]",
   "language": "python",
   "name": "python3"
  },
  "language_info": {
   "codemirror_mode": {
    "name": "ipython",
    "version": 3
   },
   "file_extension": ".py",
   "mimetype": "text/x-python",
   "name": "python",
   "nbconvert_exporter": "python",
   "pygments_lexer": "ipython3",
   "version": "3.6.6"
  }
 },
 "nbformat": 4,
 "nbformat_minor": 2
}
